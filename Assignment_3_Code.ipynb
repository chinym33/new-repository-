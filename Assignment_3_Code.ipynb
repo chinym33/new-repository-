{
 "cells": [
  {
   "cell_type": "code",
   "execution_count": 1,
   "metadata": {},
   "outputs": [],
   "source": [
    "from gurobipy import *\n",
    "import numpy as np\n",
    "import matplotlib.pyplot as plt"
   ]
  },
  {
   "cell_type": "markdown",
   "metadata": {},
   "source": [
    "### Assignment 3 Question 1:"
   ]
  },
  {
   "cell_type": "code",
   "execution_count": 2,
   "metadata": {},
   "outputs": [],
   "source": [
    "#########Model Set-up Using Function###############\n",
    "def model_setup():\n",
    "    \n",
    "    m = Model(\"Process_Flexi\")\n",
    "    \n",
    "    # number of weeks to offer price level i\n",
    "    x = m.addVars(ARCS, name = \"x\")\n",
    "\n",
    "    # set objective\n",
    "    m.setObjective( quicksum(x[i,j] for (i,j) in ARCS), GRB.MAXIMIZE)\n",
    "\n",
    "    # capcity constraint: \n",
    "    m.addConstrs( ( quicksum(x[i,j] for (i,j) in ARCS.select(i,'*')) <= supply[i] for i in range(N)), \"capacity\")\n",
    "\n",
    "    # demand constraint: \n",
    "    m.addConstrs( ( quicksum(x[i,j] for (i,j) in ARCS.select('*',j)) <= demand[j] for j in range(M) ), \"demand\")\n",
    "    \n",
    "    #Supressing the optimization output\n",
    "    m.setParam( 'OutputFlag', False )\n",
    "    \n",
    "    return m"
   ]
  },
  {
   "cell_type": "code",
   "execution_count": 3,
   "metadata": {},
   "outputs": [],
   "source": [
    "#########Parameters Set-up###############\n",
    "#supply and demand\n",
    "supply = np.array([100, 100, 100, 100, 100, 100])\n",
    "\n",
    "#mean of the demand\n",
    "mean = np.array([100, 100, 100, 100, 100, 100])\n",
    "\n",
    "#covariance matrix of the demand (independent with s.d. 30)\n",
    "cov = np.array([[900, 0, 0, 0, 0, 0], \n",
    "                [0, 900, 0, 0, 0, 0],\n",
    "                [0, 0, 900, 0, 0, 0],\n",
    "                [0, 0, 0, 900, 0, 0],\n",
    "                [0, 0, 0, 0, 900, 0],\n",
    "                [0, 0, 0, 0, 0, 900]])\n",
    "\n",
    "N = len(supply)\n",
    "M = len(mean)\n",
    "Sample_Size = 1000"
   ]
  },
  {
   "cell_type": "code",
   "execution_count": 4,
   "metadata": {},
   "outputs": [
    {
     "name": "stdout",
     "output_type": "stream",
     "text": [
      "Academic license - for non-commercial use only\n",
      "Average maximum sales for open chain: 555.7554077588462\n"
     ]
    },
    {
     "data": {
      "image/png": "[encoded data removed]",
      "text/plain": [
       "<matplotlib.figure.Figure at 0x353fef0>"
      ]
     },
     "metadata": {},
     "output_type": "display_data"
    }
   ],
   "source": [
    "#########Evaluate the Open Chain Design############\n",
    "ARCS = tuplelist([(0,0), (0,1), \n",
    "                  (1,1), (1,2),\n",
    "                  (2,2), (2,3), \n",
    "                  (3,3), (3,4), \n",
    "                  (4,4), (4,5),\n",
    "                  (5,5)])\n",
    "\n",
    "\n",
    "sales_open = np.zeros(Sample_Size)\n",
    "\n",
    "\n",
    "for i in range(Sample_Size):\n",
    "    \n",
    "    # demand is sampled from multivariate normal distribution with mean and cov (and truncated above zero)\n",
    "    demand = np.maximum(np.random.multivariate_normal(mean, cov), 0)\n",
    "    \n",
    "    # setup the model again\n",
    "    m = model_setup()\n",
    "\n",
    "    # solving the model\n",
    "    m.optimize()\n",
    "    \n",
    "    # store the maximum sales for the i-th sample\n",
    "    sales_open[i] = m.objVal\n",
    "\n",
    "# compute the average of maximum sales\n",
    "avg_sales_open = np.average(sales_open)    \n",
    "\n",
    "print('Average maximum sales for open chain:', avg_sales_open)\n",
    "\n",
    "# visiualizing the average sales\n",
    "plt.hist(sales_open, bins = 60, range = (0, 600))\n",
    "plt.xlabel('Sales')\n",
    "plt.ylabel('Frequency')\n",
    "plt.show()"
   ]
  },
  {
   "cell_type": "code",
   "execution_count": 5,
   "metadata": {},
   "outputs": [
    {
     "name": "stdout",
     "output_type": "stream",
     "text": [
      "Average maximum sales for long chain: 571.6267393111295\n"
     ]
    },
    {
     "data": {
      "image/png": "[encoded data removed]",
      "text/plain": [
       "<matplotlib.figure.Figure at 0x979dc18>"
      ]
     },
     "metadata": {},
     "output_type": "display_data"
    }
   ],
   "source": [
    "#########Evaluate the Long Chain Design############\n",
    "ARCS = tuplelist([(0,0), (0,1), \n",
    "                  (1,1), (1,2),\n",
    "                  (2,2), (2,3), \n",
    "                  (3,3), (3,4), \n",
    "                  (4,4), (4,5),\n",
    "                  (5,5), (5,0)])\n",
    "\n",
    "\n",
    "sales_long = np.zeros(Sample_Size)\n",
    "\n",
    "\n",
    "for i in range(Sample_Size):\n",
    "    \n",
    "    # demand is sampled from multivariate normal distribution with mean and cov (and truncated above zero)\n",
    "    demand = np.maximum(np.random.multivariate_normal(mean, cov), 0)\n",
    "    \n",
    "    # setup the model again\n",
    "    m = model_setup()\n",
    "\n",
    "    # solving the model\n",
    "    m.optimize()\n",
    "    \n",
    "    # store the maximum sales for the i-th sample\n",
    "    sales_long[i] = m.objVal\n",
    "\n",
    "# compute the average of maximum sales\n",
    "avg_sales_long = np.average(sales_long)    \n",
    "\n",
    "print('Average maximum sales for long chain:', avg_sales_long)\n",
    "\n",
    "# visiualizing the average sales\n",
    "plt.hist(sales_long, bins = 60, range = (0, 600))\n",
    "plt.xlabel('Sales')\n",
    "plt.ylabel('Frequency')\n",
    "plt.show()"
   ]
  },
  {
   "cell_type": "markdown",
   "metadata": {},
   "source": [
    "### Assignment 3 Question 2:\n",
    "General model formulation for the problem: let $p_j$ be the selling price at demand location $j$ and $c_i$ be the procurement cost at supply location $i$ and $t_{ij}$ be the transporation cost from supply location $i$ to demand location $j$, we then have\n",
    "\\begin{equation}\n",
    "\\begin{split}\n",
    "\\max~ & \\sum_{(i,j)\\in A}(p_j - t_{ij})x_{ij} - \\sum_{i=1}^n c_is_i\\\\\n",
    "s.t. ~& \\sum_{j:(i,j)\\in A}x_{ij} \\leq s_i\\\\\n",
    "& \\sum_{i:(i,j)\\in A}x_{ij} \\leq d_j\\\\\n",
    "& x_{ij}\\geq 0,\n",
    "\\end{split}\n",
    "\\end{equation}"
   ]
  },
  {
   "cell_type": "code",
   "execution_count": 6,
   "metadata": {},
   "outputs": [],
   "source": [
    "#########Model Set-up Using Function###############\n",
    "def model_setup():\n",
    "    \n",
    "    m = Model(\"Newsvendor\")\n",
    "    \n",
    "    # number of weeks to offer price level i\n",
    "    x = m.addVars(ARCS, name = \"x\")\n",
    "\n",
    "    # set objective\n",
    "    m.setObjective( quicksum((p[j] - t[i,j])*x[i,j] for (i,j) in ARCS) - quicksum(c[i]*supply[i] for i in range(N)), GRB.MAXIMIZE)\n",
    "\n",
    "    # capcity constraint: \n",
    "    m.addConstrs( ( quicksum(x[i,j] for (i,j) in ARCS.select(i,'*')) <= supply[i] for i in range(N)), \"capacity\")\n",
    "\n",
    "    # demand constraint: \n",
    "    m.addConstrs( ( quicksum(x[i,j] for (i,j) in ARCS.select('*',j)) <= demand[j] for j in range(M) ), \"demand\")\n",
    "    \n",
    "    #Supressing the optimization output\n",
    "    m.setParam( 'OutputFlag', False )\n",
    "    \n",
    "    return m\n"
   ]
  },
  {
   "cell_type": "code",
   "execution_count": 7,
   "metadata": {},
   "outputs": [],
   "source": [
    "#########Parameters Set-up###############\n",
    "#supply available at each location\n",
    "supply = np.array([300, 500, 500])\n",
    "\n",
    "#procurement cost at each location\n",
    "c = np.array([50, 50, 50])\n",
    "\n",
    "#selling price at each location\n",
    "p = np.array([100, 100, 100])\n",
    "\n",
    "#mean of the demand\n",
    "mean = np.array([300, 500, 500])\n",
    "\n",
    "#covariance matrix of the demand \n",
    "cov = np.array([[400, 0, 0], \n",
    "                [0, 400, 0],\n",
    "                [0, 0, 1600]])\n",
    "\n",
    "#transporation cost\n",
    "t = np.array([[0, 22, 19], \n",
    "              [22, 0, 7],\n",
    "              [19, 7, 0]])\n",
    "\n",
    "N = len(supply)\n",
    "M = len(mean)\n",
    "Sample_Size = 1000"
   ]
  },
  {
   "cell_type": "markdown",
   "metadata": {},
   "source": [
    "#### The case when no transshipments are made"
   ]
  },
  {
   "cell_type": "code",
   "execution_count": 8,
   "metadata": {},
   "outputs": [
    {
     "name": "stdout",
     "output_type": "stream",
     "text": [
      "Average profit without transshipment: 61956.8825000772\n"
     ]
    },
    {
     "data": {
      "image/png": "[encoded data removed]",
      "text/plain": [
       "<matplotlib.figure.Figure at 0xa714d30>"
      ]
     },
     "metadata": {},
     "output_type": "display_data"
    }
   ],
   "source": [
    "#########System without Transshipment############\n",
    "\n",
    "ARCS = tuplelist([(0,0), (1,1), (2,2)])\n",
    "\n",
    "profit = np.zeros(Sample_Size)\n",
    "\n",
    "\n",
    "for i in range(Sample_Size):\n",
    "    \n",
    "    # demand is sampled from multivariate normal distribution with mean and cov (and truncated above zero)\n",
    "    demand = np.maximum(np.random.multivariate_normal(mean, cov), 0)\n",
    "    \n",
    "    # setup the model again\n",
    "    m = model_setup()\n",
    "\n",
    "    # solving the model\n",
    "    m.optimize()\n",
    "    \n",
    "    # store the maximum sales for the i-th sample\n",
    "    profit[i] = m.objVal\n",
    "\n",
    "# compute the average of maximum sales\n",
    "avg_profit = np.average(profit)    \n",
    "\n",
    "print('Average profit without transshipment:', avg_profit)\n",
    "\n",
    "# visiualizing the average sales\n",
    "plt.hist(profit)\n",
    "plt.xlabel('Profit')\n",
    "plt.ylabel('Frequency')\n",
    "plt.show()\n"
   ]
  },
  {
   "cell_type": "markdown",
   "metadata": {},
   "source": [
    "#### The case when transshipments are made"
   ]
  },
  {
   "cell_type": "code",
   "execution_count": 9,
   "metadata": {},
   "outputs": [
    {
     "name": "stdout",
     "output_type": "stream",
     "text": [
      "Average profit with transshipment: 62960.20407800689\n"
     ]
    },
    {
     "data": {
      "image/png": "[encoded data removed]",
      "text/plain": [
       "<matplotlib.figure.Figure at 0xa70fe48>"
      ]
     },
     "metadata": {},
     "output_type": "display_data"
    }
   ],
   "source": [
    "#########System with Transshipment############\n",
    "\n",
    "ARCS = tuplelist([(0,0), (0,1), (0,2),\n",
    "                  (1,0), (1,1), (1,2),\n",
    "                  (2,0), (2,1), (2,2)])\n",
    "\n",
    "profit_transship = np.zeros(Sample_Size)\n",
    "\n",
    "\n",
    "for i in range(Sample_Size):\n",
    "    \n",
    "    # demand is sampled from multivariate normal distribution with mean and cov (and truncated above zero)\n",
    "    demand = np.maximum(np.random.multivariate_normal(mean, cov), 0)\n",
    "    \n",
    "    # setup the model again\n",
    "    m = model_setup()\n",
    "\n",
    "    # solving the model\n",
    "    m.optimize()\n",
    "    \n",
    "    # store the maximum sales for the i-th sample\n",
    "    profit_transship[i] = m.objVal\n",
    "\n",
    "# compute the average of maximum sales\n",
    "avg_profit_transship = np.average(profit_transship)    \n",
    "\n",
    "print('Average profit with transshipment:', avg_profit_transship)\n",
    "\n",
    "# visiualizing the average sales\n",
    "plt.hist(profit_transship)\n",
    "plt.xlabel('Profit')\n",
    "plt.ylabel('Frequency')\n",
    "plt.show()"
   ]
  },
  {
   "cell_type": "markdown",
   "metadata": {},
   "source": [
    "### Assignment 3 Question 5:\n",
    "#### Ignoring the time window constraint"
   ]
  },
  {
   "cell_type": "code",
   "execution_count": 10,
   "metadata": {},
   "outputs": [],
   "source": [
    "#########Parameters Set-up############\n",
    "\n",
    "#traveling cost from node i to node j\n",
    "cost = np.array([[1000, 3, 3, 10, 9, 10],\n",
    "                 [3, 1000, 3, 7, 6, 7], \n",
    "                 [3, 3, 1000, 7, 6, 7],\n",
    "                 [10, 7, 7, 1000, 1, 2],\n",
    "                 [9, 6, 6, 1, 1000, 1], \n",
    "                 [10, 7, 7, 2, 1, 1000]])\n",
    "\n",
    "time = np.array([0, 5, 10, 15, 13, 14])\n",
    "\n",
    "N = cost.shape[0]\n",
    "\n",
    "#the big M\n",
    "M = 10000"
   ]
  },
  {
   "cell_type": "code",
   "execution_count": 11,
   "metadata": {},
   "outputs": [
    {
     "name": "stdout",
     "output_type": "stream",
     "text": [
      "Optimize a model with 42 rows, 42 columns and 152 nonzeros\n",
      "Variable types: 6 continuous, 36 integer (36 binary)\n",
      "Coefficient statistics:\n",
      "  Matrix range     [1e+00, 1e+04]\n",
      "  Objective range  [1e+00, 1e+03]\n",
      "  Bounds range     [1e+00, 1e+00]\n",
      "  RHS range        [1e+00, 1e+04]\n",
      "Found heuristic solution: objective 34.0000000\n",
      "Presolve removed 5 rows and 7 columns\n",
      "Presolve time: 0.02s\n",
      "Presolved: 37 rows, 35 columns, 150 nonzeros\n",
      "Variable types: 5 continuous, 30 integer (30 binary)\n",
      "\n",
      "Root relaxation: objective 1.300000e+01, 18 iterations, 0.01 seconds\n",
      "\n",
      "    Nodes    |    Current Node    |     Objective Bounds      |     Work\n",
      " Expl Unexpl |  Obj  Depth IntInf | Incumbent    BestBd   Gap | It/Node Time\n",
      "\n",
      "     0     0   13.00000    0    6   34.00000   13.00000  61.8%     -    0s\n",
      "H    0     0                      22.0000000   13.00000  40.9%     -    0s\n",
      "     0     0   13.00000    0    6   22.00000   13.00000  40.9%     -    0s\n",
      "     0     0   13.00000    0    6   22.00000   13.00000  40.9%     -    0s\n",
      "     0     0   13.00360    0    6   22.00000   13.00360  40.9%     -    0s\n",
      "     0     0   15.00000    0    6   22.00000   15.00000  31.8%     -    0s\n",
      "     0     0   15.00000    0    6   22.00000   15.00000  31.8%     -    0s\n",
      "\n",
      "Cutting planes:\n",
      "  MIR: 2\n",
      "\n",
      "Explored 1 nodes (33 simplex iterations) in 0.38 seconds\n",
      "Thread count was 8 (of 8 available processors)\n",
      "\n",
      "Solution count 2: 22 34 \n",
      "\n",
      "Optimal solution found (tolerance 1.00e-04)\n",
      "Best objective 2.200000000000e+01, best bound 2.200000000000e+01, gap 0.0000%\n"
     ]
    }
   ],
   "source": [
    "#########Model Set-up############\n",
    "\n",
    "\n",
    "tsp_tw = Model(\"traveling_salesman_timewindow\")\n",
    "\n",
    "# Creat variables\n",
    "x = tsp_tw.addVars(N, N, vtype=GRB.BINARY, name = \"x\")\n",
    "\n",
    "u = tsp_tw.addVars(N, name = \"u\")\n",
    "\n",
    "# Set objective\n",
    "tsp_tw.setObjective( quicksum(cost[i,j]*x[i,j] for i in range(N) for j in range(N)), GRB.MINIMIZE)\n",
    "\n",
    "# Assignment constraints:\n",
    "tsp_tw.addConstrs(( quicksum(x[i,j] for j in range(N)) == 1 for i in range(N) ))\n",
    " \n",
    "tsp_tw.addConstrs(( quicksum(x[i,j] for i in range(N)) == 1 for j in range(N) ))\n",
    "\n",
    "# Subtour-breaking constraints:\n",
    "tsp_tw.addConstrs(( u[i] + cost[i,j] - u[j] <= M*(1 - x[i,j])  for i in range(N) for j in range(1,N) ))\n",
    "\n",
    "\n",
    "# Solving the model\n",
    "tsp_tw.optimize()\n"
   ]
  },
  {
   "cell_type": "code",
   "execution_count": 12,
   "metadata": {},
   "outputs": [
    {
     "name": "stdout",
     "output_type": "stream",
     "text": [
      "[1. 2. 5. 4. 6. 3.]\n"
     ]
    }
   ],
   "source": [
    "#  Print optimal x for x nonzero and optimal value\n",
    "s_edge = []\n",
    "for v in x:    \n",
    "    if x[v].x > 0.001:\n",
    "        edge = np.add(v, (1,1))\n",
    "        s_edge.append(edge)\n",
    "        \n",
    "#  Obtain the permutation as a representation of the tour\n",
    "permu = np.ones(N)\n",
    "predecessor = 1\n",
    "for i in range(N):\n",
    "    for s in s_edge:\n",
    "        if s[0] == predecessor:\n",
    "            permu[i] = s[0]\n",
    "            predecessor = s[1]\n",
    "            break    \n",
    "    \n",
    "print(permu)"
   ]
  },
  {
   "cell_type": "markdown",
   "metadata": {},
   "source": [
    "#### Adding the time window constraint"
   ]
  },
  {
   "cell_type": "code",
   "execution_count": 13,
   "metadata": {},
   "outputs": [
    {
     "name": "stdout",
     "output_type": "stream",
     "text": [
      "Optimize a model with 48 rows, 42 columns and 158 nonzeros\n",
      "Variable types: 6 continuous, 36 integer (36 binary)\n",
      "Coefficient statistics:\n",
      "  Matrix range     [1e+00, 1e+04]\n",
      "  Objective range  [1e+00, 1e+03]\n",
      "  Bounds range     [1e+00, 1e+00]\n",
      "  RHS range        [1e+00, 1e+04]\n",
      "\n",
      "MIP start did not produce a new incumbent solution\n",
      "\n",
      "Presolve removed 22 rows and 17 columns\n",
      "Presolve time: 0.00s\n",
      "Presolved: 26 rows, 25 columns, 134 nonzeros\n",
      "Variable types: 4 continuous, 21 integer (21 binary)\n",
      "\n",
      "Root relaxation: objective 1.300000e+01, 15 iterations, 0.00 seconds\n",
      "\n",
      "    Nodes    |    Current Node    |     Objective Bounds      |     Work\n",
      " Expl Unexpl |  Obj  Depth IntInf | Incumbent    BestBd   Gap | It/Node Time\n",
      "\n",
      "     0     0   13.00000    0    6          -   13.00000      -     -    0s\n",
      "H    0     0                      25.0000000   13.00000  48.0%     -    0s\n",
      "     0     0   13.00000    0    6   25.00000   13.00000  48.0%     -    0s\n",
      "     0     0   13.00000    0    6   25.00000   13.00000  48.0%     -    0s\n",
      "     0     0   22.00000    0   11   25.00000   22.00000  12.0%     -    0s\n",
      "     0     2   22.00000    0   11   25.00000   22.00000  12.0%     -    0s\n",
      "\n",
      "Cutting planes:\n",
      "  Gomory: 1\n",
      "\n",
      "Explored 23 nodes (97 simplex iterations) in 0.33 seconds\n",
      "Thread count was 8 (of 8 available processors)\n",
      "\n",
      "Solution count 1: 25 \n",
      "\n",
      "Optimal solution found (tolerance 1.00e-04)\n",
      "Best objective 2.500000000000e+01, best bound 2.500000000000e+01, gap 0.0000%\n"
     ]
    }
   ],
   "source": [
    "# Timewindow constraints:\n",
    "tsp_tw.addConstrs(( u[i] <= time[i]  for i in range(N)  ))\n",
    "\n",
    "# Solving the model\n",
    "tsp_tw.optimize()\n"
   ]
  },
  {
   "cell_type": "code",
   "execution_count": 15,
   "metadata": {},
   "outputs": [
    {
     "name": "stdout",
     "output_type": "stream",
     "text": [
      "[1. 2. 3. 5. 6. 4.]\n"
     ]
    }
   ],
   "source": [
    "#  Print optimal x for x nonzero and optimal value\n",
    "s_edge = []\n",
    "for v in x:    \n",
    "    if x[v].x > 0.001:\n",
    "        edge = np.add(v, (1,1))\n",
    "        s_edge.append(edge)\n",
    "        \n",
    "#  Obtain the permutation as a representation of the tour\n",
    "permu = np.ones(N)\n",
    "predecessor = 1\n",
    "for i in range(N):\n",
    "    for s in s_edge:\n",
    "        if s[0] == predecessor:\n",
    "            permu[i] = s[0]\n",
    "            predecessor = s[1]\n",
    "            break    \n",
    "    \n",
    "print(permu)"
   ]
  },
  {
   "cell_type": "code",
   "execution_count": null,
   "metadata": {},
   "outputs": [],
   "source": []
  }
 ],
 "metadata": {
  "kernelspec": {
   "display_name": "Python 3",
   "language": "python",
   "name": "python3"
  },
  "language_info": {
   "codemirror_mode": {
    "name": "ipython",
    "version": 3
   },
   "file_extension": ".py",
   "mimetype": "text/x-python",
   "name": "python",
   "nbconvert_exporter": "python",
   "pygments_lexer": "ipython3",
   "version": "3.6.4"
  }
 },
 "nbformat": 4,
 "nbformat_minor": 2
}
